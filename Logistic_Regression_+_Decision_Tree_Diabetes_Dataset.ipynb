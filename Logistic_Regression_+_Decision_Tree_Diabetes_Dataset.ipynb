{
  "nbformat": 4,
  "nbformat_minor": 0,
  "metadata": {
    "colab": {
      "provenance": [],
      "authorship_tag": "ABX9TyMMFyrH4E+cQq+hRqimkHW2",
      "include_colab_link": true
    },
    "kernelspec": {
      "name": "python3",
      "display_name": "Python 3"
    },
    "language_info": {
      "name": "python"
    }
  },
  "cells": [
    {
      "cell_type": "markdown",
      "metadata": {
        "id": "view-in-github",
        "colab_type": "text"
      },
      "source": [
        "<a href=\"https://colab.research.google.com/github/Vishvesh-Bhardwaj/Machine-Learning-Core-Concepts/blob/main/Logistic_Regression_%2B_Decision_Tree_Diabetes_Dataset.ipynb\" target=\"_parent\"><img src=\"https://colab.research.google.com/assets/colab-badge.svg\" alt=\"Open In Colab\"/></a>"
      ]
    },
    {
      "cell_type": "markdown",
      "source": [
        "RA2011026010109 - VISHVESH BHARDWAJ"
      ],
      "metadata": {
        "id": "-2wUAJWVVK3y"
      }
    },
    {
      "cell_type": "markdown",
      "source": [
        "My Dataset - https://raw.githubusercontent.com/Vishvesh-Bhardwaj/Machine-Learning-Core-Concepts/main/diabetes.csv"
      ],
      "metadata": {
        "id": "7fTo1HG8Sz98"
      }
    },
    {
      "cell_type": "markdown",
      "source": [
        "**LOGISTIC REGRESSION**\n",
        "\n",
        "\n"
      ],
      "metadata": {
        "id": "WfZgzo0UT4ro"
      }
    },
    {
      "cell_type": "markdown",
      "source": [
        "Libraries"
      ],
      "metadata": {
        "id": "cmgX84uSS92a"
      }
    },
    {
      "cell_type": "code",
      "execution_count": 1,
      "metadata": {
        "id": "TBpNp-cuRd8T"
      },
      "outputs": [],
      "source": [
        "import pandas as pd\n",
        "from sklearn.model_selection import train_test_split\n",
        "from sklearn.linear_model import LogisticRegression\n",
        "from sklearn.metrics import accuracy_score"
      ]
    },
    {
      "cell_type": "markdown",
      "source": [
        "Loading the data set"
      ],
      "metadata": {
        "id": "twdzquPeTCND"
      }
    },
    {
      "cell_type": "code",
      "source": [
        "url = \"https://raw.githubusercontent.com/Vishvesh-Bhardwaj/Machine-Learning-Core-Concepts/main/diabetes.csv\"\n",
        "data = pd.read_csv(url)"
      ],
      "metadata": {
        "id": "R-iOQGCbS8d9"
      },
      "execution_count": 2,
      "outputs": []
    },
    {
      "cell_type": "markdown",
      "source": [
        "Split the data set into training and testing sets"
      ],
      "metadata": {
        "id": "9SbC51i1TJqw"
      }
    },
    {
      "cell_type": "code",
      "source": [
        "X_train, X_test, y_train, y_test = train_test_split(data.drop('Outcome', axis=1), data['Outcome'], test_size=0.3, random_state=42)"
      ],
      "metadata": {
        "id": "VNIDpEmZTG7_"
      },
      "execution_count": 3,
      "outputs": []
    },
    {
      "cell_type": "markdown",
      "source": [
        "Train a logistic regression model"
      ],
      "metadata": {
        "id": "LbNu2EMqTNtU"
      }
    },
    {
      "cell_type": "code",
      "source": [
        "logreg = LogisticRegression()\n",
        "logreg.fit(X_train, y_train)"
      ],
      "metadata": {
        "colab": {
          "base_uri": "https://localhost:8080/",
          "height": 213
        },
        "id": "gQZCZ3SsTSyx",
        "outputId": "f14536bd-c39a-4982-cca2-1eca30329881"
      },
      "execution_count": 4,
      "outputs": [
        {
          "output_type": "stream",
          "name": "stderr",
          "text": [
            "/usr/local/lib/python3.9/dist-packages/sklearn/linear_model/_logistic.py:458: ConvergenceWarning: lbfgs failed to converge (status=1):\n",
            "STOP: TOTAL NO. of ITERATIONS REACHED LIMIT.\n",
            "\n",
            "Increase the number of iterations (max_iter) or scale the data as shown in:\n",
            "    https://scikit-learn.org/stable/modules/preprocessing.html\n",
            "Please also refer to the documentation for alternative solver options:\n",
            "    https://scikit-learn.org/stable/modules/linear_model.html#logistic-regression\n",
            "  n_iter_i = _check_optimize_result(\n"
          ]
        },
        {
          "output_type": "execute_result",
          "data": {
            "text/plain": [
              "LogisticRegression()"
            ],
            "text/html": [
              "<style>#sk-container-id-1 {color: black;background-color: white;}#sk-container-id-1 pre{padding: 0;}#sk-container-id-1 div.sk-toggleable {background-color: white;}#sk-container-id-1 label.sk-toggleable__label {cursor: pointer;display: block;width: 100%;margin-bottom: 0;padding: 0.3em;box-sizing: border-box;text-align: center;}#sk-container-id-1 label.sk-toggleable__label-arrow:before {content: \"▸\";float: left;margin-right: 0.25em;color: #696969;}#sk-container-id-1 label.sk-toggleable__label-arrow:hover:before {color: black;}#sk-container-id-1 div.sk-estimator:hover label.sk-toggleable__label-arrow:before {color: black;}#sk-container-id-1 div.sk-toggleable__content {max-height: 0;max-width: 0;overflow: hidden;text-align: left;background-color: #f0f8ff;}#sk-container-id-1 div.sk-toggleable__content pre {margin: 0.2em;color: black;border-radius: 0.25em;background-color: #f0f8ff;}#sk-container-id-1 input.sk-toggleable__control:checked~div.sk-toggleable__content {max-height: 200px;max-width: 100%;overflow: auto;}#sk-container-id-1 input.sk-toggleable__control:checked~label.sk-toggleable__label-arrow:before {content: \"▾\";}#sk-container-id-1 div.sk-estimator input.sk-toggleable__control:checked~label.sk-toggleable__label {background-color: #d4ebff;}#sk-container-id-1 div.sk-label input.sk-toggleable__control:checked~label.sk-toggleable__label {background-color: #d4ebff;}#sk-container-id-1 input.sk-hidden--visually {border: 0;clip: rect(1px 1px 1px 1px);clip: rect(1px, 1px, 1px, 1px);height: 1px;margin: -1px;overflow: hidden;padding: 0;position: absolute;width: 1px;}#sk-container-id-1 div.sk-estimator {font-family: monospace;background-color: #f0f8ff;border: 1px dotted black;border-radius: 0.25em;box-sizing: border-box;margin-bottom: 0.5em;}#sk-container-id-1 div.sk-estimator:hover {background-color: #d4ebff;}#sk-container-id-1 div.sk-parallel-item::after {content: \"\";width: 100%;border-bottom: 1px solid gray;flex-grow: 1;}#sk-container-id-1 div.sk-label:hover label.sk-toggleable__label {background-color: #d4ebff;}#sk-container-id-1 div.sk-serial::before {content: \"\";position: absolute;border-left: 1px solid gray;box-sizing: border-box;top: 0;bottom: 0;left: 50%;z-index: 0;}#sk-container-id-1 div.sk-serial {display: flex;flex-direction: column;align-items: center;background-color: white;padding-right: 0.2em;padding-left: 0.2em;position: relative;}#sk-container-id-1 div.sk-item {position: relative;z-index: 1;}#sk-container-id-1 div.sk-parallel {display: flex;align-items: stretch;justify-content: center;background-color: white;position: relative;}#sk-container-id-1 div.sk-item::before, #sk-container-id-1 div.sk-parallel-item::before {content: \"\";position: absolute;border-left: 1px solid gray;box-sizing: border-box;top: 0;bottom: 0;left: 50%;z-index: -1;}#sk-container-id-1 div.sk-parallel-item {display: flex;flex-direction: column;z-index: 1;position: relative;background-color: white;}#sk-container-id-1 div.sk-parallel-item:first-child::after {align-self: flex-end;width: 50%;}#sk-container-id-1 div.sk-parallel-item:last-child::after {align-self: flex-start;width: 50%;}#sk-container-id-1 div.sk-parallel-item:only-child::after {width: 0;}#sk-container-id-1 div.sk-dashed-wrapped {border: 1px dashed gray;margin: 0 0.4em 0.5em 0.4em;box-sizing: border-box;padding-bottom: 0.4em;background-color: white;}#sk-container-id-1 div.sk-label label {font-family: monospace;font-weight: bold;display: inline-block;line-height: 1.2em;}#sk-container-id-1 div.sk-label-container {text-align: center;}#sk-container-id-1 div.sk-container {/* jupyter's `normalize.less` sets `[hidden] { display: none; }` but bootstrap.min.css set `[hidden] { display: none !important; }` so we also need the `!important` here to be able to override the default hidden behavior on the sphinx rendered scikit-learn.org. See: https://github.com/scikit-learn/scikit-learn/issues/21755 */display: inline-block !important;position: relative;}#sk-container-id-1 div.sk-text-repr-fallback {display: none;}</style><div id=\"sk-container-id-1\" class=\"sk-top-container\"><div class=\"sk-text-repr-fallback\"><pre>LogisticRegression()</pre><b>In a Jupyter environment, please rerun this cell to show the HTML representation or trust the notebook. <br />On GitHub, the HTML representation is unable to render, please try loading this page with nbviewer.org.</b></div><div class=\"sk-container\" hidden><div class=\"sk-item\"><div class=\"sk-estimator sk-toggleable\"><input class=\"sk-toggleable__control sk-hidden--visually\" id=\"sk-estimator-id-1\" type=\"checkbox\" checked><label for=\"sk-estimator-id-1\" class=\"sk-toggleable__label sk-toggleable__label-arrow\">LogisticRegression</label><div class=\"sk-toggleable__content\"><pre>LogisticRegression()</pre></div></div></div></div></div>"
            ]
          },
          "metadata": {},
          "execution_count": 4
        }
      ]
    },
    {
      "cell_type": "markdown",
      "source": [
        "Make predictions on the test set"
      ],
      "metadata": {
        "id": "9Fv8MTXCTXWT"
      }
    },
    {
      "cell_type": "code",
      "source": [
        "y_pred = logreg.predict(X_test)"
      ],
      "metadata": {
        "id": "04PPsFp0TUuT"
      },
      "execution_count": 5,
      "outputs": []
    },
    {
      "cell_type": "markdown",
      "source": [
        "Calculate the accuracy of the model\n"
      ],
      "metadata": {
        "id": "WjBWKXP5Tael"
      }
    },
    {
      "cell_type": "code",
      "source": [
        "accuracy = accuracy_score(y_test, y_pred)\n",
        "print(\"Accuracy:\", accuracy)"
      ],
      "metadata": {
        "colab": {
          "base_uri": "https://localhost:8080/"
        },
        "id": "7wuS2Sn7TVSB",
        "outputId": "8346e05a-52a7-4606-98e9-7818a9cd684e"
      },
      "execution_count": 6,
      "outputs": [
        {
          "output_type": "stream",
          "name": "stdout",
          "text": [
            "Accuracy: 0.7402597402597403\n"
          ]
        }
      ]
    },
    {
      "cell_type": "markdown",
      "source": [
        "Print the logistic regression model coefficients\n"
      ],
      "metadata": {
        "id": "RQixUlowVqCv"
      }
    },
    {
      "cell_type": "code",
      "source": [
        "print(\"Logistic Regression Coefficients:\", logreg.coef_)"
      ],
      "metadata": {
        "colab": {
          "base_uri": "https://localhost:8080/"
        },
        "id": "Lyl4kMjQVr3N",
        "outputId": "60b244d6-d540-48b9-c45f-b429c90665eb"
      },
      "execution_count": 13,
      "outputs": [
        {
          "output_type": "stream",
          "name": "stdout",
          "text": [
            "Logistic Regression Coefficients: [[ 0.05654335  0.0355845  -0.01087779 -0.00179053 -0.00098901  0.10761163\n",
            "   0.52393657  0.03582556]]\n"
          ]
        }
      ]
    },
    {
      "cell_type": "markdown",
      "source": [
        "**DECISION TREES**"
      ],
      "metadata": {
        "id": "9mvqPJ0HT3Yj"
      }
    },
    {
      "cell_type": "code",
      "source": [
        "from sklearn.tree import DecisionTreeClassifier"
      ],
      "metadata": {
        "id": "K4sNCIQYUDyG"
      },
      "execution_count": 7,
      "outputs": []
    },
    {
      "cell_type": "markdown",
      "source": [
        "Train a decision tree classifier"
      ],
      "metadata": {
        "id": "xoi-AwPRUd6g"
      }
    },
    {
      "cell_type": "code",
      "source": [
        "dtc = DecisionTreeClassifier()\n",
        "dtc.fit(X_train, y_train)"
      ],
      "metadata": {
        "colab": {
          "base_uri": "https://localhost:8080/",
          "height": 74
        },
        "id": "ggJp1hATUfRx",
        "outputId": "a1a065ba-587d-489a-b108-1335ed007f65"
      },
      "execution_count": 8,
      "outputs": [
        {
          "output_type": "execute_result",
          "data": {
            "text/plain": [
              "DecisionTreeClassifier()"
            ],
            "text/html": [
              "<style>#sk-container-id-2 {color: black;background-color: white;}#sk-container-id-2 pre{padding: 0;}#sk-container-id-2 div.sk-toggleable {background-color: white;}#sk-container-id-2 label.sk-toggleable__label {cursor: pointer;display: block;width: 100%;margin-bottom: 0;padding: 0.3em;box-sizing: border-box;text-align: center;}#sk-container-id-2 label.sk-toggleable__label-arrow:before {content: \"▸\";float: left;margin-right: 0.25em;color: #696969;}#sk-container-id-2 label.sk-toggleable__label-arrow:hover:before {color: black;}#sk-container-id-2 div.sk-estimator:hover label.sk-toggleable__label-arrow:before {color: black;}#sk-container-id-2 div.sk-toggleable__content {max-height: 0;max-width: 0;overflow: hidden;text-align: left;background-color: #f0f8ff;}#sk-container-id-2 div.sk-toggleable__content pre {margin: 0.2em;color: black;border-radius: 0.25em;background-color: #f0f8ff;}#sk-container-id-2 input.sk-toggleable__control:checked~div.sk-toggleable__content {max-height: 200px;max-width: 100%;overflow: auto;}#sk-container-id-2 input.sk-toggleable__control:checked~label.sk-toggleable__label-arrow:before {content: \"▾\";}#sk-container-id-2 div.sk-estimator input.sk-toggleable__control:checked~label.sk-toggleable__label {background-color: #d4ebff;}#sk-container-id-2 div.sk-label input.sk-toggleable__control:checked~label.sk-toggleable__label {background-color: #d4ebff;}#sk-container-id-2 input.sk-hidden--visually {border: 0;clip: rect(1px 1px 1px 1px);clip: rect(1px, 1px, 1px, 1px);height: 1px;margin: -1px;overflow: hidden;padding: 0;position: absolute;width: 1px;}#sk-container-id-2 div.sk-estimator {font-family: monospace;background-color: #f0f8ff;border: 1px dotted black;border-radius: 0.25em;box-sizing: border-box;margin-bottom: 0.5em;}#sk-container-id-2 div.sk-estimator:hover {background-color: #d4ebff;}#sk-container-id-2 div.sk-parallel-item::after {content: \"\";width: 100%;border-bottom: 1px solid gray;flex-grow: 1;}#sk-container-id-2 div.sk-label:hover label.sk-toggleable__label {background-color: #d4ebff;}#sk-container-id-2 div.sk-serial::before {content: \"\";position: absolute;border-left: 1px solid gray;box-sizing: border-box;top: 0;bottom: 0;left: 50%;z-index: 0;}#sk-container-id-2 div.sk-serial {display: flex;flex-direction: column;align-items: center;background-color: white;padding-right: 0.2em;padding-left: 0.2em;position: relative;}#sk-container-id-2 div.sk-item {position: relative;z-index: 1;}#sk-container-id-2 div.sk-parallel {display: flex;align-items: stretch;justify-content: center;background-color: white;position: relative;}#sk-container-id-2 div.sk-item::before, #sk-container-id-2 div.sk-parallel-item::before {content: \"\";position: absolute;border-left: 1px solid gray;box-sizing: border-box;top: 0;bottom: 0;left: 50%;z-index: -1;}#sk-container-id-2 div.sk-parallel-item {display: flex;flex-direction: column;z-index: 1;position: relative;background-color: white;}#sk-container-id-2 div.sk-parallel-item:first-child::after {align-self: flex-end;width: 50%;}#sk-container-id-2 div.sk-parallel-item:last-child::after {align-self: flex-start;width: 50%;}#sk-container-id-2 div.sk-parallel-item:only-child::after {width: 0;}#sk-container-id-2 div.sk-dashed-wrapped {border: 1px dashed gray;margin: 0 0.4em 0.5em 0.4em;box-sizing: border-box;padding-bottom: 0.4em;background-color: white;}#sk-container-id-2 div.sk-label label {font-family: monospace;font-weight: bold;display: inline-block;line-height: 1.2em;}#sk-container-id-2 div.sk-label-container {text-align: center;}#sk-container-id-2 div.sk-container {/* jupyter's `normalize.less` sets `[hidden] { display: none; }` but bootstrap.min.css set `[hidden] { display: none !important; }` so we also need the `!important` here to be able to override the default hidden behavior on the sphinx rendered scikit-learn.org. See: https://github.com/scikit-learn/scikit-learn/issues/21755 */display: inline-block !important;position: relative;}#sk-container-id-2 div.sk-text-repr-fallback {display: none;}</style><div id=\"sk-container-id-2\" class=\"sk-top-container\"><div class=\"sk-text-repr-fallback\"><pre>DecisionTreeClassifier()</pre><b>In a Jupyter environment, please rerun this cell to show the HTML representation or trust the notebook. <br />On GitHub, the HTML representation is unable to render, please try loading this page with nbviewer.org.</b></div><div class=\"sk-container\" hidden><div class=\"sk-item\"><div class=\"sk-estimator sk-toggleable\"><input class=\"sk-toggleable__control sk-hidden--visually\" id=\"sk-estimator-id-2\" type=\"checkbox\" checked><label for=\"sk-estimator-id-2\" class=\"sk-toggleable__label sk-toggleable__label-arrow\">DecisionTreeClassifier</label><div class=\"sk-toggleable__content\"><pre>DecisionTreeClassifier()</pre></div></div></div></div></div>"
            ]
          },
          "metadata": {},
          "execution_count": 8
        }
      ]
    },
    {
      "cell_type": "markdown",
      "source": [
        "Make predictions on the test set"
      ],
      "metadata": {
        "id": "I9Z-byibUiIs"
      }
    },
    {
      "cell_type": "code",
      "source": [
        "y_pred = dtc.predict(X_test)"
      ],
      "metadata": {
        "id": "CT0Kx91iUk_t"
      },
      "execution_count": 9,
      "outputs": []
    },
    {
      "cell_type": "markdown",
      "source": [
        "Calculate the accuracy of the model"
      ],
      "metadata": {
        "id": "He6MhxVIUnfI"
      }
    },
    {
      "cell_type": "code",
      "source": [
        "accuracy = accuracy_score(y_test, y_pred)\n",
        "print(\"Accuracy:\", accuracy)"
      ],
      "metadata": {
        "colab": {
          "base_uri": "https://localhost:8080/"
        },
        "id": "Fg2so920Up7I",
        "outputId": "5713d082-6719-4c20-9c42-e6022054150a"
      },
      "execution_count": 10,
      "outputs": [
        {
          "output_type": "stream",
          "name": "stdout",
          "text": [
            "Accuracy: 0.6883116883116883\n"
          ]
        }
      ]
    },
    {
      "cell_type": "markdown",
      "source": [
        "PRINTING THE DECISION TREE"
      ],
      "metadata": {
        "id": "9HW678EUU59j"
      }
    },
    {
      "cell_type": "code",
      "source": [
        "from sklearn.tree import DecisionTreeClassifier, export_text\n",
        "tree_rules = export_text(dtc, feature_names=list(data.columns[:-1]))\n",
        "print(tree_rules)"
      ],
      "metadata": {
        "colab": {
          "base_uri": "https://localhost:8080/"
        },
        "id": "NH107P4oU8N3",
        "outputId": "c4135dc8-7c2f-40ff-c816-ac0d4332a1c5"
      },
      "execution_count": 12,
      "outputs": [
        {
          "output_type": "stream",
          "name": "stdout",
          "text": [
            "|--- Glucose <= 154.50\n",
            "|   |--- Age <= 28.50\n",
            "|   |   |--- Glucose <= 127.50\n",
            "|   |   |   |--- BMI <= 49.10\n",
            "|   |   |   |   |--- BMI <= 31.40\n",
            "|   |   |   |   |   |--- DiabetesPedigreeFunction <= 0.67\n",
            "|   |   |   |   |   |   |--- class: 0\n",
            "|   |   |   |   |   |--- DiabetesPedigreeFunction >  0.67\n",
            "|   |   |   |   |   |   |--- DiabetesPedigreeFunction <= 0.70\n",
            "|   |   |   |   |   |   |   |--- class: 1\n",
            "|   |   |   |   |   |   |--- DiabetesPedigreeFunction >  0.70\n",
            "|   |   |   |   |   |   |   |--- class: 0\n",
            "|   |   |   |   |--- BMI >  31.40\n",
            "|   |   |   |   |   |--- Insulin <= 9.00\n",
            "|   |   |   |   |   |   |--- Glucose <= 111.50\n",
            "|   |   |   |   |   |   |   |--- SkinThickness <= 40.50\n",
            "|   |   |   |   |   |   |   |   |--- class: 0\n",
            "|   |   |   |   |   |   |   |--- SkinThickness >  40.50\n",
            "|   |   |   |   |   |   |   |   |--- class: 1\n",
            "|   |   |   |   |   |   |--- Glucose >  111.50\n",
            "|   |   |   |   |   |   |   |--- BloodPressure <= 72.00\n",
            "|   |   |   |   |   |   |   |   |--- BMI <= 37.40\n",
            "|   |   |   |   |   |   |   |   |   |--- BMI <= 32.60\n",
            "|   |   |   |   |   |   |   |   |   |   |--- class: 0\n",
            "|   |   |   |   |   |   |   |   |   |--- BMI >  32.60\n",
            "|   |   |   |   |   |   |   |   |   |   |--- class: 1\n",
            "|   |   |   |   |   |   |   |   |--- BMI >  37.40\n",
            "|   |   |   |   |   |   |   |   |   |--- class: 0\n",
            "|   |   |   |   |   |   |   |--- BloodPressure >  72.00\n",
            "|   |   |   |   |   |   |   |   |--- class: 1\n",
            "|   |   |   |   |   |--- Insulin >  9.00\n",
            "|   |   |   |   |   |   |--- Pregnancies <= 4.50\n",
            "|   |   |   |   |   |   |   |--- DiabetesPedigreeFunction <= 0.64\n",
            "|   |   |   |   |   |   |   |   |--- class: 0\n",
            "|   |   |   |   |   |   |   |--- DiabetesPedigreeFunction >  0.64\n",
            "|   |   |   |   |   |   |   |   |--- DiabetesPedigreeFunction <= 0.68\n",
            "|   |   |   |   |   |   |   |   |   |--- class: 1\n",
            "|   |   |   |   |   |   |   |   |--- DiabetesPedigreeFunction >  0.68\n",
            "|   |   |   |   |   |   |   |   |   |--- class: 0\n",
            "|   |   |   |   |   |   |--- Pregnancies >  4.50\n",
            "|   |   |   |   |   |   |   |--- DiabetesPedigreeFunction <= 0.39\n",
            "|   |   |   |   |   |   |   |   |--- class: 0\n",
            "|   |   |   |   |   |   |   |--- DiabetesPedigreeFunction >  0.39\n",
            "|   |   |   |   |   |   |   |   |--- class: 1\n",
            "|   |   |   |--- BMI >  49.10\n",
            "|   |   |   |   |--- class: 1\n",
            "|   |   |--- Glucose >  127.50\n",
            "|   |   |   |--- BloodPressure <= 56.00\n",
            "|   |   |   |   |--- class: 1\n",
            "|   |   |   |--- BloodPressure >  56.00\n",
            "|   |   |   |   |--- BMI <= 30.30\n",
            "|   |   |   |   |   |--- Age <= 27.50\n",
            "|   |   |   |   |   |   |--- class: 0\n",
            "|   |   |   |   |   |--- Age >  27.50\n",
            "|   |   |   |   |   |   |--- BloodPressure <= 69.50\n",
            "|   |   |   |   |   |   |   |--- class: 1\n",
            "|   |   |   |   |   |   |--- BloodPressure >  69.50\n",
            "|   |   |   |   |   |   |   |--- class: 0\n",
            "|   |   |   |   |--- BMI >  30.30\n",
            "|   |   |   |   |   |--- BMI <= 32.00\n",
            "|   |   |   |   |   |   |--- class: 1\n",
            "|   |   |   |   |   |--- BMI >  32.00\n",
            "|   |   |   |   |   |   |--- BloodPressure <= 85.00\n",
            "|   |   |   |   |   |   |   |--- Pregnancies <= 0.50\n",
            "|   |   |   |   |   |   |   |   |--- BMI <= 33.75\n",
            "|   |   |   |   |   |   |   |   |   |--- class: 0\n",
            "|   |   |   |   |   |   |   |   |--- BMI >  33.75\n",
            "|   |   |   |   |   |   |   |   |   |--- class: 1\n",
            "|   |   |   |   |   |   |   |--- Pregnancies >  0.50\n",
            "|   |   |   |   |   |   |   |   |--- BMI <= 32.45\n",
            "|   |   |   |   |   |   |   |   |   |--- class: 1\n",
            "|   |   |   |   |   |   |   |   |--- BMI >  32.45\n",
            "|   |   |   |   |   |   |   |   |   |--- class: 0\n",
            "|   |   |   |   |   |   |--- BloodPressure >  85.00\n",
            "|   |   |   |   |   |   |   |--- class: 1\n",
            "|   |--- Age >  28.50\n",
            "|   |   |--- BMI <= 26.95\n",
            "|   |   |   |--- Age <= 29.50\n",
            "|   |   |   |   |--- class: 1\n",
            "|   |   |   |--- Age >  29.50\n",
            "|   |   |   |   |--- BMI <= 9.65\n",
            "|   |   |   |   |   |--- BloodPressure <= 89.00\n",
            "|   |   |   |   |   |   |--- class: 0\n",
            "|   |   |   |   |   |--- BloodPressure >  89.00\n",
            "|   |   |   |   |   |   |--- class: 1\n",
            "|   |   |   |   |--- BMI >  9.65\n",
            "|   |   |   |   |   |--- Glucose <= 133.00\n",
            "|   |   |   |   |   |   |--- class: 0\n",
            "|   |   |   |   |   |--- Glucose >  133.00\n",
            "|   |   |   |   |   |   |--- Pregnancies <= 5.00\n",
            "|   |   |   |   |   |   |   |--- DiabetesPedigreeFunction <= 0.24\n",
            "|   |   |   |   |   |   |   |   |--- class: 0\n",
            "|   |   |   |   |   |   |   |--- DiabetesPedigreeFunction >  0.24\n",
            "|   |   |   |   |   |   |   |   |--- class: 1\n",
            "|   |   |   |   |   |   |--- Pregnancies >  5.00\n",
            "|   |   |   |   |   |   |   |--- class: 0\n",
            "|   |   |--- BMI >  26.95\n",
            "|   |   |   |--- Glucose <= 94.50\n",
            "|   |   |   |   |--- Glucose <= 28.50\n",
            "|   |   |   |   |   |--- class: 1\n",
            "|   |   |   |   |--- Glucose >  28.50\n",
            "|   |   |   |   |   |--- Pregnancies <= 9.50\n",
            "|   |   |   |   |   |   |--- class: 0\n",
            "|   |   |   |   |   |--- Pregnancies >  9.50\n",
            "|   |   |   |   |   |   |--- SkinThickness <= 27.00\n",
            "|   |   |   |   |   |   |   |--- class: 0\n",
            "|   |   |   |   |   |   |--- SkinThickness >  27.00\n",
            "|   |   |   |   |   |   |   |--- SkinThickness <= 36.00\n",
            "|   |   |   |   |   |   |   |   |--- class: 1\n",
            "|   |   |   |   |   |   |   |--- SkinThickness >  36.00\n",
            "|   |   |   |   |   |   |   |   |--- class: 0\n",
            "|   |   |   |--- Glucose >  94.50\n",
            "|   |   |   |   |--- DiabetesPedigreeFunction <= 0.53\n",
            "|   |   |   |   |   |--- BloodPressure <= 83.00\n",
            "|   |   |   |   |   |   |--- SkinThickness <= 26.50\n",
            "|   |   |   |   |   |   |   |--- BMI <= 28.35\n",
            "|   |   |   |   |   |   |   |   |--- DiabetesPedigreeFunction <= 0.25\n",
            "|   |   |   |   |   |   |   |   |   |--- class: 0\n",
            "|   |   |   |   |   |   |   |   |--- DiabetesPedigreeFunction >  0.25\n",
            "|   |   |   |   |   |   |   |   |   |--- Glucose <= 126.50\n",
            "|   |   |   |   |   |   |   |   |   |   |--- class: 1\n",
            "|   |   |   |   |   |   |   |   |   |--- Glucose >  126.50\n",
            "|   |   |   |   |   |   |   |   |   |   |--- class: 0\n",
            "|   |   |   |   |   |   |   |--- BMI >  28.35\n",
            "|   |   |   |   |   |   |   |   |--- BloodPressure <= 67.00\n",
            "|   |   |   |   |   |   |   |   |   |--- class: 1\n",
            "|   |   |   |   |   |   |   |   |--- BloodPressure >  67.00\n",
            "|   |   |   |   |   |   |   |   |   |--- BloodPressure <= 69.00\n",
            "|   |   |   |   |   |   |   |   |   |   |--- class: 0\n",
            "|   |   |   |   |   |   |   |   |   |--- BloodPressure >  69.00\n",
            "|   |   |   |   |   |   |   |   |   |   |--- BMI <= 31.60\n",
            "|   |   |   |   |   |   |   |   |   |   |   |--- class: 1\n",
            "|   |   |   |   |   |   |   |   |   |   |--- BMI >  31.60\n",
            "|   |   |   |   |   |   |   |   |   |   |   |--- truncated branch of depth 4\n",
            "|   |   |   |   |   |   |--- SkinThickness >  26.50\n",
            "|   |   |   |   |   |   |   |--- Glucose <= 127.50\n",
            "|   |   |   |   |   |   |   |   |--- BloodPressure <= 67.00\n",
            "|   |   |   |   |   |   |   |   |   |--- Pregnancies <= 5.50\n",
            "|   |   |   |   |   |   |   |   |   |   |--- Pregnancies <= 0.50\n",
            "|   |   |   |   |   |   |   |   |   |   |   |--- class: 1\n",
            "|   |   |   |   |   |   |   |   |   |   |--- Pregnancies >  0.50\n",
            "|   |   |   |   |   |   |   |   |   |   |   |--- class: 0\n",
            "|   |   |   |   |   |   |   |   |   |--- Pregnancies >  5.50\n",
            "|   |   |   |   |   |   |   |   |   |   |--- class: 1\n",
            "|   |   |   |   |   |   |   |   |--- BloodPressure >  67.00\n",
            "|   |   |   |   |   |   |   |   |   |--- Insulin <= 155.00\n",
            "|   |   |   |   |   |   |   |   |   |   |--- class: 0\n",
            "|   |   |   |   |   |   |   |   |   |--- Insulin >  155.00\n",
            "|   |   |   |   |   |   |   |   |   |   |--- Insulin <= 288.50\n",
            "|   |   |   |   |   |   |   |   |   |   |   |--- class: 1\n",
            "|   |   |   |   |   |   |   |   |   |   |--- Insulin >  288.50\n",
            "|   |   |   |   |   |   |   |   |   |   |   |--- class: 0\n",
            "|   |   |   |   |   |   |   |--- Glucose >  127.50\n",
            "|   |   |   |   |   |   |   |   |--- SkinThickness <= 31.00\n",
            "|   |   |   |   |   |   |   |   |   |--- DiabetesPedigreeFunction <= 0.32\n",
            "|   |   |   |   |   |   |   |   |   |   |--- class: 0\n",
            "|   |   |   |   |   |   |   |   |   |--- DiabetesPedigreeFunction >  0.32\n",
            "|   |   |   |   |   |   |   |   |   |   |--- class: 1\n",
            "|   |   |   |   |   |   |   |   |--- SkinThickness >  31.00\n",
            "|   |   |   |   |   |   |   |   |   |--- class: 1\n",
            "|   |   |   |   |   |--- BloodPressure >  83.00\n",
            "|   |   |   |   |   |   |--- Insulin <= 124.00\n",
            "|   |   |   |   |   |   |   |--- BMI <= 41.20\n",
            "|   |   |   |   |   |   |   |   |--- SkinThickness <= 39.50\n",
            "|   |   |   |   |   |   |   |   |   |--- class: 0\n",
            "|   |   |   |   |   |   |   |   |--- SkinThickness >  39.50\n",
            "|   |   |   |   |   |   |   |   |   |--- DiabetesPedigreeFunction <= 0.34\n",
            "|   |   |   |   |   |   |   |   |   |   |--- class: 1\n",
            "|   |   |   |   |   |   |   |   |   |--- DiabetesPedigreeFunction >  0.34\n",
            "|   |   |   |   |   |   |   |   |   |   |--- class: 0\n",
            "|   |   |   |   |   |   |   |--- BMI >  41.20\n",
            "|   |   |   |   |   |   |   |   |--- class: 1\n",
            "|   |   |   |   |   |   |--- Insulin >  124.00\n",
            "|   |   |   |   |   |   |   |--- SkinThickness <= 19.50\n",
            "|   |   |   |   |   |   |   |   |--- class: 0\n",
            "|   |   |   |   |   |   |   |--- SkinThickness >  19.50\n",
            "|   |   |   |   |   |   |   |   |--- class: 1\n",
            "|   |   |   |   |--- DiabetesPedigreeFunction >  0.53\n",
            "|   |   |   |   |   |--- BMI <= 31.60\n",
            "|   |   |   |   |   |   |--- BMI <= 29.10\n",
            "|   |   |   |   |   |   |   |--- Glucose <= 132.00\n",
            "|   |   |   |   |   |   |   |   |--- BMI <= 27.35\n",
            "|   |   |   |   |   |   |   |   |   |--- SkinThickness <= 21.00\n",
            "|   |   |   |   |   |   |   |   |   |   |--- class: 0\n",
            "|   |   |   |   |   |   |   |   |   |--- SkinThickness >  21.00\n",
            "|   |   |   |   |   |   |   |   |   |   |--- class: 1\n",
            "|   |   |   |   |   |   |   |   |--- BMI >  27.35\n",
            "|   |   |   |   |   |   |   |   |   |--- class: 1\n",
            "|   |   |   |   |   |   |   |--- Glucose >  132.00\n",
            "|   |   |   |   |   |   |   |   |--- class: 0\n",
            "|   |   |   |   |   |   |--- BMI >  29.10\n",
            "|   |   |   |   |   |   |   |--- Age <= 50.00\n",
            "|   |   |   |   |   |   |   |   |--- class: 0\n",
            "|   |   |   |   |   |   |   |--- Age >  50.00\n",
            "|   |   |   |   |   |   |   |   |--- class: 1\n",
            "|   |   |   |   |   |--- BMI >  31.60\n",
            "|   |   |   |   |   |   |--- DiabetesPedigreeFunction <= 1.15\n",
            "|   |   |   |   |   |   |   |--- SkinThickness <= 54.50\n",
            "|   |   |   |   |   |   |   |   |--- BloodPressure <= 87.00\n",
            "|   |   |   |   |   |   |   |   |   |--- class: 1\n",
            "|   |   |   |   |   |   |   |   |--- BloodPressure >  87.00\n",
            "|   |   |   |   |   |   |   |   |   |--- DiabetesPedigreeFunction <= 0.73\n",
            "|   |   |   |   |   |   |   |   |   |   |--- class: 0\n",
            "|   |   |   |   |   |   |   |   |   |--- DiabetesPedigreeFunction >  0.73\n",
            "|   |   |   |   |   |   |   |   |   |   |--- class: 1\n",
            "|   |   |   |   |   |   |   |--- SkinThickness >  54.50\n",
            "|   |   |   |   |   |   |   |   |--- class: 0\n",
            "|   |   |   |   |   |   |--- DiabetesPedigreeFunction >  1.15\n",
            "|   |   |   |   |   |   |   |--- Age <= 36.00\n",
            "|   |   |   |   |   |   |   |   |--- class: 1\n",
            "|   |   |   |   |   |   |   |--- Age >  36.00\n",
            "|   |   |   |   |   |   |   |   |--- class: 0\n",
            "|--- Glucose >  154.50\n",
            "|   |--- BMI <= 28.70\n",
            "|   |   |--- BMI <= 25.35\n",
            "|   |   |   |--- class: 1\n",
            "|   |   |--- BMI >  25.35\n",
            "|   |   |   |--- Age <= 52.50\n",
            "|   |   |   |   |--- Pregnancies <= 1.50\n",
            "|   |   |   |   |   |--- class: 0\n",
            "|   |   |   |   |--- Pregnancies >  1.50\n",
            "|   |   |   |   |   |--- class: 1\n",
            "|   |   |   |--- Age >  52.50\n",
            "|   |   |   |   |--- class: 0\n",
            "|   |--- BMI >  28.70\n",
            "|   |   |--- DiabetesPedigreeFunction <= 1.43\n",
            "|   |   |   |--- DiabetesPedigreeFunction <= 0.30\n",
            "|   |   |   |   |--- Age <= 30.50\n",
            "|   |   |   |   |   |--- Insulin <= 457.00\n",
            "|   |   |   |   |   |   |--- Insulin <= 180.00\n",
            "|   |   |   |   |   |   |   |--- DiabetesPedigreeFunction <= 0.27\n",
            "|   |   |   |   |   |   |   |   |--- class: 1\n",
            "|   |   |   |   |   |   |   |--- DiabetesPedigreeFunction >  0.27\n",
            "|   |   |   |   |   |   |   |   |--- class: 0\n",
            "|   |   |   |   |   |   |--- Insulin >  180.00\n",
            "|   |   |   |   |   |   |   |--- class: 0\n",
            "|   |   |   |   |   |--- Insulin >  457.00\n",
            "|   |   |   |   |   |   |--- class: 1\n",
            "|   |   |   |   |--- Age >  30.50\n",
            "|   |   |   |   |   |--- class: 1\n",
            "|   |   |   |--- DiabetesPedigreeFunction >  0.30\n",
            "|   |   |   |   |--- Glucose <= 165.50\n",
            "|   |   |   |   |   |--- Glucose <= 164.50\n",
            "|   |   |   |   |   |   |--- class: 1\n",
            "|   |   |   |   |   |--- Glucose >  164.50\n",
            "|   |   |   |   |   |   |--- class: 0\n",
            "|   |   |   |   |--- Glucose >  165.50\n",
            "|   |   |   |   |   |--- class: 1\n",
            "|   |   |--- DiabetesPedigreeFunction >  1.43\n",
            "|   |   |   |--- Glucose <= 181.50\n",
            "|   |   |   |   |--- class: 1\n",
            "|   |   |   |--- Glucose >  181.50\n",
            "|   |   |   |   |--- class: 0\n",
            "\n"
          ]
        }
      ]
    }
  ]
}