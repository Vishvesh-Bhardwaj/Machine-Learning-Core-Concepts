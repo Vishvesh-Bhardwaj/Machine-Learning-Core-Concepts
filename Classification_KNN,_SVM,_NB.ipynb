{
  "nbformat": 4,
  "nbformat_minor": 0,
  "metadata": {
    "colab": {
      "provenance": [],
      "include_colab_link": true
    },
    "kernelspec": {
      "name": "python3",
      "display_name": "Python 3"
    },
    "language_info": {
      "name": "python"
    }
  },
  "cells": [
    {
      "cell_type": "markdown",
      "metadata": {
        "id": "view-in-github",
        "colab_type": "text"
      },
      "source": [
        "<a href=\"https://colab.research.google.com/github/Vishvesh-Bhardwaj/Machine-Learning-Core-Concepts/blob/main/Classification_KNN%2C_SVM%2C_NB.ipynb\" target=\"_parent\"><img src=\"https://colab.research.google.com/assets/colab-badge.svg\" alt=\"Open In Colab\"/></a>"
      ]
    },
    {
      "cell_type": "code",
      "source": [
        "import pandas as pd\n",
        "import numpy as np\n",
        "\n",
        "# Load the dataset\n",
        "data = pd.read_csv('https://raw.githubusercontent.com/Vishvesh-Bhardwaj/Machine-Learning-Core-Concepts/main/diabetes-_1_.csv')\n",
        "\n",
        "# Print the first 5 rows of the dataset\n",
        "print(data.head())\n"
      ],
      "metadata": {
        "colab": {
          "base_uri": "https://localhost:8080/"
        },
        "id": "s4hvP6ijRDGS",
        "outputId": "5d886a2a-a0ef-4091-d1b1-b4d9dfb02ef3"
      },
      "execution_count": 3,
      "outputs": [
        {
          "output_type": "stream",
          "name": "stdout",
          "text": [
            "   Pregnancies  Glucose  BloodPressure  SkinThickness  Insulin   BMI  \\\n",
            "0            6      148             72             35        0  33.6   \n",
            "1            1       85             66             29        0  26.6   \n",
            "2            8      183             64              0        0  23.3   \n",
            "3            1       89             66             23       94  28.1   \n",
            "4            0      137             40             35      168  43.1   \n",
            "\n",
            "   DiabetesPedigreeFunction  Age  Outcome  \n",
            "0                     0.627   50        1  \n",
            "1                     0.351   31        0  \n",
            "2                     0.672   32        1  \n",
            "3                     0.167   21        0  \n",
            "4                     2.288   33        1  \n"
          ]
        }
      ]
    },
    {
      "cell_type": "code",
      "source": [
        "from sklearn.model_selection import train_test_split\n",
        "\n",
        "X = data.drop('Outcome', axis=1)\n",
        "y = data['Outcome']\n",
        "\n",
        "X_train, X_test, y_train, y_test = train_test_split(X, y, test_size=0.3, random_state=42)\n"
      ],
      "metadata": {
        "id": "lR6twNA8RKN8"
      },
      "execution_count": 4,
      "outputs": []
    },
    {
      "cell_type": "code",
      "source": [
        "from sklearn.neighbors import KNeighborsClassifier\n",
        "from sklearn.metrics import confusion_matrix, accuracy_score, precision_score, recall_score, f1_score\n",
        "\n",
        "# Create the KNN model\n",
        "knn = KNeighborsClassifier(n_neighbors=5)\n",
        "\n",
        "# Train the model using the training data\n",
        "knn.fit(X_train, y_train)\n",
        "\n",
        "# Predict the classes of the testing data\n",
        "y_pred = knn.predict(X_test)\n",
        "\n",
        "# Print the confusion matrix\n",
        "print('Confusion Matrix:')\n",
        "print(confusion_matrix(y_test, y_pred))\n",
        "\n",
        "# Print the accuracy score\n",
        "accuracy = accuracy_score(y_test, y_pred)\n",
        "print('Accuracy:', accuracy)\n",
        "\n",
        "# Print the precision score\n",
        "precision = precision_score(y_test, y_pred)\n",
        "print('Precision:', precision)\n",
        "\n",
        "# Print the recall score\n",
        "recall = recall_score(y_test, y_pred)\n",
        "print('Recall:', recall)\n",
        "\n",
        "# Print the specificity score\n"
      ],
      "metadata": {
        "colab": {
          "base_uri": "https://localhost:8080/"
        },
        "id": "M9feE2pfRPLo",
        "outputId": "54b69a03-e2a5-47aa-cdca-af435c7e4759"
      },
      "execution_count": 5,
      "outputs": [
        {
          "output_type": "stream",
          "name": "stdout",
          "text": [
            "Confusion Matrix:\n",
            "[[114  37]\n",
            " [ 35  45]]\n",
            "Accuracy: 0.6883116883116883\n",
            "Precision: 0.5487804878048781\n",
            "Recall: 0.5625\n"
          ]
        }
      ]
    },
    {
      "cell_type": "code",
      "source": [
        "# Calculate the specificity score\n",
        "tn, fp, fn, tp = confusion_matrix(y_test, y_pred).ravel()\n",
        "specificity = tn / (tn + fp)\n",
        "print('Specificity:', specificity)\n",
        "\n",
        "# Print the F1 score\n",
        "f1 = f1_score(y_test, y_pred)\n",
        "print('F1 Score:', f1)\n"
      ],
      "metadata": {
        "colab": {
          "base_uri": "https://localhost:8080/"
        },
        "id": "NA3Lsl6-RS1S",
        "outputId": "e9b0cc8e-0435-47bd-c35d-269d38243e8c"
      },
      "execution_count": 6,
      "outputs": [
        {
          "output_type": "stream",
          "name": "stdout",
          "text": [
            "Specificity: 0.7549668874172185\n",
            "F1 Score: 0.5555555555555556\n"
          ]
        }
      ]
    },
    {
      "cell_type": "code",
      "source": [
        "from sklearn.svm import SVC\n",
        "\n",
        "# Create the SVM model\n",
        "svm = SVC(kernel='linear')\n",
        "\n",
        "# Train the model using the training data\n",
        "svm.fit(X_train, y_train)\n",
        "\n",
        "# Predict the classes of the testing data\n",
        "y_pred = svm.predict(X_test)\n",
        "\n",
        "# Print the confusion matrix\n",
        "print('Confusion Matrix:')\n",
        "print(confusion_matrix(y_test, y_pred))\n",
        "\n",
        "# Print the accuracy score\n",
        "accuracy = accuracy_score(y_test, y_pred)\n",
        "print('Accuracy:', accuracy)\n",
        "\n",
        "# Print the precision score\n",
        "precision = precision_score(y_test, y_pred)\n",
        "print('Precision:', precision)\n",
        "\n",
        "# Print the recall score\n",
        "recall = recall_score(y_test, y_pred)\n",
        "print('Recall:', recall)\n",
        "\n",
        "# Calculate the specificity score\n",
        "tn, fp, fn, tp = confusion_matrix(y_test, y_pred).ravel()\n",
        "specificity = tn / (tn + fp)\n",
        "print('Specificity:', specificity)\n",
        "\n",
        "# Print the F1 score\n",
        "f1 = f1_score(y_test, y_pred)\n",
        "print('F1 Score:', f1)\n"
      ],
      "metadata": {
        "colab": {
          "base_uri": "https://localhost:8080/"
        },
        "id": "iokvjQ_-RYrT",
        "outputId": "c8157ce9-89da-469c-fc0d-c8180088d921"
      },
      "execution_count": 7,
      "outputs": [
        {
          "output_type": "stream",
          "name": "stdout",
          "text": [
            "Confusion Matrix:\n",
            "[[122  29]\n",
            " [ 30  50]]\n",
            "Accuracy: 0.7445887445887446\n",
            "Precision: 0.6329113924050633\n",
            "Recall: 0.625\n",
            "Specificity: 0.8079470198675497\n",
            "F1 Score: 0.6289308176100629\n"
          ]
        }
      ]
    },
    {
      "cell_type": "code",
      "source": [
        "from sklearn.naive_bayes import GaussianNB\n",
        "\n",
        "# Create the NB model\n",
        "nb = GaussianNB()\n",
        "\n",
        "# Train the model using the training data\n",
        "nb.fit(X_train, y_train)\n",
        "\n",
        "# Predict the classes of the testing data\n",
        "y_pred = nb.predict(X_test)\n",
        "\n",
        "# Print the confusion matrix\n",
        "print('Confusion Matrix:')\n",
        "print(confusion_matrix(y_test, y_pred))\n",
        "\n",
        "# Print the accuracy score\n",
        "accuracy = accuracy_score(y_test, y_pred)\n",
        "print('Accuracy:', accuracy)\n",
        "\n",
        "# Print the precision score\n",
        "precision = precision_score(y_test, y_pred)\n",
        "print('Precision:', precision)\n",
        "\n",
        "# Print the recall score\n",
        "recall = recall_score(y_test, y_pred)\n",
        "print('Recall:', recall)\n",
        "\n",
        "# Calculate the specificity score\n",
        "tn, fp,fn, tp = confusion_matrix(y_test, y_pred).ravel()\n",
        "specificity = tn / (tn + fp)\n",
        "print('Specificity:', specificity)\n",
        "\n",
        "f1 = f1_score(y_test, y_pred)\n",
        "print('F1 Score:', f1)\n"
      ],
      "metadata": {
        "colab": {
          "base_uri": "https://localhost:8080/"
        },
        "id": "ScMg7uZERc2r",
        "outputId": "fd1e795a-e76e-4f6d-eabf-64f9027309b0"
      },
      "execution_count": 8,
      "outputs": [
        {
          "output_type": "stream",
          "name": "stdout",
          "text": [
            "Confusion Matrix:\n",
            "[[119  32]\n",
            " [ 27  53]]\n",
            "Accuracy: 0.7445887445887446\n",
            "Precision: 0.6235294117647059\n",
            "Recall: 0.6625\n",
            "Specificity: 0.7880794701986755\n",
            "F1 Score: 0.6424242424242423\n"
          ]
        }
      ]
    }
  ]
}